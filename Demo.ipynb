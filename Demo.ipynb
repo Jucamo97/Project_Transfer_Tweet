{
 "cells": [
  {
   "cell_type": "code",
   "execution_count": 616,
   "metadata": {},
   "outputs": [],
   "source": [
    "from selenium import webdriver\n",
    "from selenium.webdriver.support.ui import WebDriverWait\n",
    "from selenium.webdriver.support import expected_conditions as EC\n",
    "from selenium.webdriver.common.by import By\n",
    "import pandas as pd\n",
    "import tweepy\n",
    "\n",
    "#Driver Settings\n",
    "options = webdriver.ChromeOptions()\n",
    "options.add_argument('--start-maximized')\n",
    "options.add_argument('--disable-extensions')\n",
    "options.add_argument(\"--disable-dev-shm-usage\");\n",
    "options.add_argument(\"--disable-renderer-backgrounding\");\n",
    "options.add_argument(\"--disable-background-timer-throttling\");\n",
    "options.add_argument(\"--disable-backgrounding-occluded-windows\");\n",
    "options.add_argument(\"--disable-client-side-phishing-detection\");\n",
    "options.add_argument(\"--disable-crash-reporter\");\n",
    "options.add_argument(\"--disable-oopr-debug-crash-dump\");\n",
    "options.add_argument(\"--no-crash-upload\");\n",
    "options.add_argument(\"--disable-gpu\");\n",
    "options.add_argument(\"--disable-extensions\");\n",
    "options.add_argument(\"--disable-low-res-tiling\");\n",
    "\n",
    "driver = webdriver.Chrome(options= options)\n",
    "driver.get('https://www.transfermarkt.co/liga-dimayor-apertura/letztetransfers/wettbewerb/COLP/plus/1')"
   ]
  },
  {
   "cell_type": "code",
   "execution_count": 617,
   "metadata": {},
   "outputs": [],
   "source": [
    "#Accept Cookies\n",
    "iFrame = driver.find_element(By.ID,'sp_message_iframe_953420')\n",
    "driver.switch_to.frame(iFrame)\n",
    "cookie = driver.find_element(By.XPATH,'//*[@id=\"notice\"]/div[3]/div[1]/div/button').click()\n",
    "driver.switch_to.default_content()"
   ]
  },
  {
   "cell_type": "code",
   "execution_count": 672,
   "metadata": {},
   "outputs": [
    {
     "name": "stdout",
     "output_type": "stream",
     "text": [
      "Daniel Mantilla 27 Deportivo Cali Atl. Nacional 05/01/2024 ?\n",
      "Agustín Aleo 25 Boyacá Chicó Alvarado 05/01/2024 Libre\n"
     ]
    }
   ],
   "source": [
    "def get_data():\n",
    "    mainTable = []\n",
    "    for x in range(13,15):\n",
    "        namePlayer = driver.find_element(By.XPATH,f'//*[@id=\"yw1\"]/table/tbody/tr[{x}]/td[1]/table/tbody/tr[1]/td[2]/a').text\n",
    "        agePlayer = driver.find_element(By.XPATH,f'//*[@id=\"yw1\"]/table/tbody/tr[{x}]/td[3]').text\n",
    "        lastTeamPlayer = driver.find_element(By.XPATH,f'//*[@id=\"yw1\"]/table/tbody/tr[{x}]/td[4]/table/tbody/tr[1]/td[2]/a').text\n",
    "        newTeamPlayer = driver.find_element(By.XPATH,f'//*[@id=\"yw1\"]/table/tbody/tr[{x}]/td[5]/table/tbody/tr[1]/td[2]/a').text\n",
    "        datePlayer = driver.find_element(By.XPATH,f'//*[@id=\"yw1\"]/table/tbody/tr[{x}]/td[6]').text\n",
    "        transferValuePlayer = driver.find_element(By.XPATH,f'//*[@id=\"yw1\"]/table/tbody/tr[{x}]/td[7]').text\n",
    "\n",
    "        rowTable = {}\n",
    "        rowTable['Player_Name'] = namePlayer\n",
    "        rowTable['Player_Age'] = int(agePlayer)\n",
    "        rowTable['Last_Team'] = lastTeamPlayer\n",
    "        rowTable['New_Team'] = newTeamPlayer\n",
    "        rowTable['Date'] = datePlayer\n",
    "        rowTable['Transfer_Value'] = transferValuePlayer\n",
    "        \n",
    "        mainTable.append(rowTable)\n",
    "\n",
    "        print(namePlayer,agePlayer,lastTeamPlayer,newTeamPlayer,datePlayer,transferValuePlayer)\n",
    "\n",
    "    return mainTable\n",
    "\n",
    "data = get_data()"
   ]
  },
  {
   "cell_type": "code",
   "execution_count": 673,
   "metadata": {},
   "outputs": [
    {
     "name": "stdout",
     "output_type": "stream",
     "text": [
      "{'Player_Name': 'Daniel Mantilla', 'Player_Age': 27, 'Last_Team': 'Deportivo Cali', 'New_Team': 'Atl. Nacional', 'Date': '05/01/2024', 'Transfer_Value': '?'}\n",
      "{'Player_Name': 'Agustín Aleo', 'Player_Age': 25, 'Last_Team': 'Boyacá Chicó', 'New_Team': 'Alvarado', 'Date': '05/01/2024', 'Transfer_Value': 'Libre'}\n",
      "Esta\n"
     ]
    }
   ],
   "source": [
    "Tweet = []\n",
    "\n",
    "for x in data:\n",
    "    print(x)\n",
    "\n",
    "temporal = pd.read_csv('initial.csv')\n",
    "temporal = temporal.to_dict(orient='records')\n",
    "\n",
    "for x in data:\n",
    "    if x not in temporal:\n",
    "        temporal.append(x)\n",
    "        Tweet.append(x)\n",
    "    else:\n",
    "        print('Esta')\n",
    "\n",
    "temporal = pd.DataFrame(temporal)\n",
    "temporal.to_csv('initial.csv',index=False)"
   ]
  },
  {
   "cell_type": "code",
   "execution_count": 674,
   "metadata": {},
   "outputs": [
    {
     "data": {
      "text/plain": [
       "[{'Player_Name': 'Daniel Mantilla',\n",
       "  'Player_Age': 27,\n",
       "  'Last_Team': 'Deportivo Cali',\n",
       "  'New_Team': 'Atl. Nacional',\n",
       "  'Date': '05/01/2024',\n",
       "  'Transfer_Value': '?'}]"
      ]
     },
     "execution_count": 674,
     "metadata": {},
     "output_type": "execute_result"
    }
   ],
   "source": [
    "Tweet"
   ]
  },
  {
   "cell_type": "code",
   "execution_count": 675,
   "metadata": {},
   "outputs": [
    {
     "name": "stdout",
     "output_type": "stream",
     "text": [
      "Daniel Mantilla de 27 años es nuevo jugador de Atl. Nacional, su equipo anterior fue Deportivo Cali.\n"
     ]
    }
   ],
   "source": [
    "#Check if there are tweets\n",
    "if len(Tweet) > 0:\n",
    "    tweetTable = pd.DataFrame(Tweet)\n",
    "\n",
    "    for x in range(len(tweetTable.index)):\n",
    "\n",
    "        Name = tweetTable.iloc[x]['Player_Name'] \n",
    "        Age = tweetTable.iloc[x]['Player_Age']\n",
    "        New_Team = tweetTable.iloc[x]['New_Team']\n",
    "        Last_Team = tweetTable.iloc[x]['Last_Team']\n",
    "        Transfer = tweetTable.iloc[x]['Transfer_Value']\n",
    "\n",
    "        if Transfer == 'Libre':\n",
    "            Tweet = f'{Name} de {Age} años es nuevo jugador de {New_Team}, llega como Agente Libre. Su equipo anterior fue {Last_Team}.'\n",
    "            print(Tweet)\n",
    "\n",
    "        elif Transfer == '?':\n",
    "            Tweet = f'{Name} de {Age} años es nuevo jugador de {New_Team}, su equipo anterior fue {Last_Team}.'\n",
    "            print(Tweet)\n",
    "        \n",
    "        elif Transfer == '-':\n",
    "            Tweet = f'{Name} de {Age} años es ahora Agente Libre, su equipo anterior fue {Last_Team}.'\n",
    "            print(Tweet)\n",
    "\n",
    "        else:\n",
    "            Tweet = f'{Name} de {Age} años es nuevo jugador de {New_Team}. Compra por valor de {Transfer}.'\n",
    "            print(Tweet)\n",
    "\n",
    "\n",
    "            #Tweepy Settings\n",
    "        api_key = \"KDUGgujyObm2cK0d0ckiDjkUT\"\n",
    "        api_secret = \"89OkMWycXZQRsH9961Yu7YeZK6wLizLgSey1WanPqMIqfgw82R\"\n",
    "        bearer_token = r\"AAAAAAAAAAAAAAAAAAAAANEtrwEAAAAAYk%2FVyGlB97XFu7q5psrriG0Z3p0%3DIvsHejuxkyMjLE9HsFE9ydLSKm3OxlQGYfrbyxSxY0IirtG9Sc\"\n",
    "        access_token = \"1743376837969838080-gbBNkHtJokKWsKlr3hlMxb6y1La5DI\"\n",
    "        access_token_secret = \"lNM88hqq4Yt4PcxYRF46MxFDUZ9VWdKNP2rHB33PQwN2K\"\n",
    "\n",
    "        client = tweepy.Client(bearer_token, api_key, api_secret, access_token, access_token_secret)\n",
    "        client.create_tweet(text=Tweet)\n",
    "            \n",
    "else:\n",
    "    print('No news')\n"
   ]
  }
 ],
 "metadata": {
  "kernelspec": {
   "display_name": "Scrapper-venv",
   "language": "python",
   "name": "python3"
  },
  "language_info": {
   "codemirror_mode": {
    "name": "ipython",
    "version": 3
   },
   "file_extension": ".py",
   "mimetype": "text/x-python",
   "name": "python",
   "nbconvert_exporter": "python",
   "pygments_lexer": "ipython3",
   "version": "3.12.1"
  }
 },
 "nbformat": 4,
 "nbformat_minor": 2
}
